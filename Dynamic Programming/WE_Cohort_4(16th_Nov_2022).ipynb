{
  "nbformat": 4,
  "nbformat_minor": 0,
  "metadata": {
    "colab": {
      "provenance": []
    },
    "kernelspec": {
      "name": "python3",
      "display_name": "Python 3"
    },
    "language_info": {
      "name": "python"
    }
  },
  "cells": [
    {
      "cell_type": "code",
      "execution_count": 2,
      "metadata": {
        "id": "zPmSGTxnnqXo"
      },
      "outputs": [],
      "source": [
        "import time"
      ]
    },
    {
      "cell_type": "code",
      "source": [
        "def fib(n):\n",
        "  if n in [0, 1]:\n",
        "    return n\n",
        "  return fib(n-1) + fib(n-2)"
      ],
      "metadata": {
        "id": "H193to_CnxkQ"
      },
      "execution_count": 3,
      "outputs": []
    },
    {
      "cell_type": "code",
      "source": [
        "from functools import lru_cache\n",
        "\n"
      ],
      "metadata": {
        "id": "ZmOCwIeAotRP"
      },
      "execution_count": 7,
      "outputs": []
    },
    {
      "cell_type": "code",
      "source": [
        "nums = list(range(10,50)) \n",
        "nums"
      ],
      "metadata": {
        "id": "9hFcEj41n7WZ",
        "colab": {
          "base_uri": "https://localhost:8080/"
        },
        "outputId": "5a7229ee-45e5-4386-956e-6724de386f7f"
      },
      "execution_count": 4,
      "outputs": [
        {
          "output_type": "execute_result",
          "data": {
            "text/plain": [
              "[10,\n",
              " 11,\n",
              " 12,\n",
              " 13,\n",
              " 14,\n",
              " 15,\n",
              " 16,\n",
              " 17,\n",
              " 18,\n",
              " 19,\n",
              " 20,\n",
              " 21,\n",
              " 22,\n",
              " 23,\n",
              " 24,\n",
              " 25,\n",
              " 26,\n",
              " 27,\n",
              " 28,\n",
              " 29,\n",
              " 30,\n",
              " 31,\n",
              " 32,\n",
              " 33,\n",
              " 34,\n",
              " 35,\n",
              " 36,\n",
              " 37,\n",
              " 38,\n",
              " 39,\n",
              " 40,\n",
              " 41,\n",
              " 42,\n",
              " 43,\n",
              " 44,\n",
              " 45,\n",
              " 46,\n",
              " 47,\n",
              " 48,\n",
              " 49]"
            ]
          },
          "metadata": {},
          "execution_count": 4
        }
      ]
    },
    {
      "cell_type": "code",
      "source": [
        "def fibs():\n",
        "  @lru_cache(10000) # Can't send an unhashable type with lru\n",
        "  def fib2(n):\n",
        "    if n in [0, 1]:\n",
        "      return n\n",
        "    return fib2(n - 1) + fib2(n - 2)\n",
        "\n",
        "\n",
        "  for num in range(10, 50):\n",
        "    start = time.time()\n",
        "    fib2(num)\n",
        "    end = time.time()\n",
        "    times.append(end - start)\n",
        "    print(num, end - start)\n",
        "fibs()"
      ],
      "metadata": {
        "id": "7w9zCrX9oC5l",
        "colab": {
          "base_uri": "https://localhost:8080/"
        },
        "outputId": "83d95e96-041f-4f6b-eda4-702d149b8ded"
      },
      "execution_count": 17,
      "outputs": [
        {
          "output_type": "stream",
          "name": "stdout",
          "text": [
            "10 1.5497207641601562e-05\n",
            "11 4.291534423828125e-06\n",
            "12 4.0531158447265625e-06\n",
            "13 2.1457672119140625e-06\n",
            "14 2.384185791015625e-06\n",
            "15 1.9073486328125e-06\n",
            "16 1.6689300537109375e-06\n",
            "17 1.9073486328125e-06\n",
            "18 1.430511474609375e-06\n",
            "19 1.430511474609375e-06\n",
            "20 1.6689300537109375e-06\n",
            "21 4.291534423828125e-06\n",
            "22 5.245208740234375e-06\n",
            "23 2.1457672119140625e-06\n",
            "24 1.430511474609375e-06\n",
            "25 1.6689300537109375e-06\n",
            "26 1.1920928955078125e-06\n",
            "27 1.6689300537109375e-06\n",
            "28 5.4836273193359375e-06\n",
            "29 1.9073486328125e-06\n",
            "30 2.1457672119140625e-06\n",
            "31 6.9141387939453125e-06\n",
            "32 1.6689300537109375e-06\n",
            "33 1.430511474609375e-06\n",
            "34 1.6689300537109375e-06\n",
            "35 1.6689300537109375e-06\n",
            "36 1.6689300537109375e-06\n",
            "37 1.6689300537109375e-06\n",
            "38 1.6689300537109375e-06\n",
            "39 1.6689300537109375e-06\n",
            "40 5.0067901611328125e-06\n",
            "41 1.6689300537109375e-06\n",
            "42 4.5299530029296875e-06\n",
            "43 1.6689300537109375e-06\n",
            "44 1.9073486328125e-06\n",
            "45 1.430511474609375e-06\n",
            "46 1.9073486328125e-06\n",
            "47 1.6689300537109375e-06\n",
            "48 1.6689300537109375e-06\n",
            "49 2.1457672119140625e-06\n"
          ]
        }
      ]
    },
    {
      "cell_type": "code",
      "source": [
        "fib(50)"
      ],
      "metadata": {
        "id": "2yi72dmGu4OH"
      },
      "execution_count": null,
      "outputs": []
    },
    {
      "cell_type": "code",
      "source": [
        "def fibDP(n, dp):\n",
        "  if dp[n] != -1:\n",
        "    return dp[n]\n",
        "  dp[n] = fibDP(n - 1, dp) + fibDP(n - 2, dp)\n",
        "  return dp[n]\n",
        "\n",
        "n = 50\n",
        "dp = [-1] * (n + 1)\n",
        "dp[0] = 0\n",
        "dp[1] = 1\n",
        "print(fibDP(n, dp))"
      ],
      "metadata": {
        "colab": {
          "base_uri": "https://localhost:8080/"
        },
        "id": "SFyLrZFcuOYD",
        "outputId": "6431c15d-b7b2-4ed9-bcb4-b46300a0bb2d"
      },
      "execution_count": 18,
      "outputs": [
        {
          "output_type": "stream",
          "name": "stdout",
          "text": [
            "12586269025\n"
          ]
        }
      ]
    },
    {
      "cell_type": "code",
      "source": [
        "times"
      ],
      "metadata": {
        "colab": {
          "base_uri": "https://localhost:8080/"
        },
        "id": "16FwWD36oQx-",
        "outputId": "986d54b5-fd09-4634-f390-acf6b5d29e82"
      },
      "execution_count": null,
      "outputs": [
        {
          "output_type": "execute_result",
          "data": {
            "text/plain": [
              "[2.384185791015625e-06,\n",
              " 7.152557373046875e-07,\n",
              " 1.6689300537109375e-06,\n",
              " 1.1920928955078125e-06,\n",
              " 1.6689300537109375e-06,\n",
              " 2.384185791015625e-06,\n",
              " 3.5762786865234375e-06,\n",
              " 5.4836273193359375e-06,\n",
              " 9.059906005859375e-06,\n",
              " 4.887580871582031e-05,\n",
              " 3.5762786865234375e-05,\n",
              " 5.555152893066406e-05,\n",
              " 0.00011229515075683594,\n",
              " 0.0001666545867919922,\n",
              " 0.00026798248291015625,\n",
              " 0.0004858970642089844,\n",
              " 0.0007455348968505859,\n",
              " 0.0012497901916503906,\n",
              " 0.0045969486236572266,\n",
              " 0.0028655529022216797]"
            ]
          },
          "metadata": {},
          "execution_count": 7
        }
      ]
    }
  ]
}