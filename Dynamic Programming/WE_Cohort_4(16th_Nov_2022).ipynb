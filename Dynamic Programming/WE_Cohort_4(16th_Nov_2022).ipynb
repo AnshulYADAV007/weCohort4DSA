{
  "cells": [
    {
      "cell_type": "code",
      "execution_count": 2,
      "metadata": {
        "id": "zPmSGTxnnqXo"
      },
      "outputs": [],
      "source": [
        "import time"
      ]
    },
    {
      "cell_type": "code",
      "execution_count": 3,
      "metadata": {
        "id": "H193to_CnxkQ"
      },
      "outputs": [],
      "source": [
        "def fib(n):\n",
        "  if n in [0, 1]:\n",
        "    return n\n",
        "  return fib(n-1) + fib(n-2)"
      ]
    },
    {
      "cell_type": "code",
      "execution_count": 7,
      "metadata": {
        "id": "ZmOCwIeAotRP"
      },
      "outputs": [],
      "source": [
        "from functools import lru_cache\n",
        "\n"
      ]
    },
    {
      "cell_type": "code",
      "execution_count": 4,
      "metadata": {
        "colab": {
          "base_uri": "https://localhost:8080/"
        },
        "id": "9hFcEj41n7WZ",
        "outputId": "5a7229ee-45e5-4386-956e-6724de386f7f"
      },
      "outputs": [
        {
          "data": {
            "text/plain": [
              "[10,\n",
              " 11,\n",
              " 12,\n",
              " 13,\n",
              " 14,\n",
              " 15,\n",
              " 16,\n",
              " 17,\n",
              " 18,\n",
              " 19,\n",
              " 20,\n",
              " 21,\n",
              " 22,\n",
              " 23,\n",
              " 24,\n",
              " 25,\n",
              " 26,\n",
              " 27,\n",
              " 28,\n",
              " 29,\n",
              " 30,\n",
              " 31,\n",
              " 32,\n",
              " 33,\n",
              " 34,\n",
              " 35,\n",
              " 36,\n",
              " 37,\n",
              " 38,\n",
              " 39,\n",
              " 40,\n",
              " 41,\n",
              " 42,\n",
              " 43,\n",
              " 44,\n",
              " 45,\n",
              " 46,\n",
              " 47,\n",
              " 48,\n",
              " 49]"
            ]
          },
          "execution_count": 4,
          "metadata": {},
          "output_type": "execute_result"
        }
      ],
      "source": [
        "nums = list(range(10,50)) \n",
        "nums"
      ]
    },
    {
      "cell_type": "code",
      "execution_count": 17,
      "metadata": {
        "colab": {
          "base_uri": "https://localhost:8080/"
        },
        "id": "7w9zCrX9oC5l",
        "outputId": "83d95e96-041f-4f6b-eda4-702d149b8ded"
      },
      "outputs": [
        {
          "name": "stdout",
          "output_type": "stream",
          "text": [
            "10 1.5497207641601562e-05\n",
            "11 4.291534423828125e-06\n",
            "12 4.0531158447265625e-06\n",
            "13 2.1457672119140625e-06\n",
            "14 2.384185791015625e-06\n",
            "15 1.9073486328125e-06\n",
            "16 1.6689300537109375e-06\n",
            "17 1.9073486328125e-06\n",
            "18 1.430511474609375e-06\n",
            "19 1.430511474609375e-06\n",
            "20 1.6689300537109375e-06\n",
            "21 4.291534423828125e-06\n",
            "22 5.245208740234375e-06\n",
            "23 2.1457672119140625e-06\n",
            "24 1.430511474609375e-06\n",
            "25 1.6689300537109375e-06\n",
            "26 1.1920928955078125e-06\n",
            "27 1.6689300537109375e-06\n",
            "28 5.4836273193359375e-06\n",
            "29 1.9073486328125e-06\n",
            "30 2.1457672119140625e-06\n",
            "31 6.9141387939453125e-06\n",
            "32 1.6689300537109375e-06\n",
            "33 1.430511474609375e-06\n",
            "34 1.6689300537109375e-06\n",
            "35 1.6689300537109375e-06\n",
            "36 1.6689300537109375e-06\n",
            "37 1.6689300537109375e-06\n",
            "38 1.6689300537109375e-06\n",
            "39 1.6689300537109375e-06\n",
            "40 5.0067901611328125e-06\n",
            "41 1.6689300537109375e-06\n",
            "42 4.5299530029296875e-06\n",
            "43 1.6689300537109375e-06\n",
            "44 1.9073486328125e-06\n",
            "45 1.430511474609375e-06\n",
            "46 1.9073486328125e-06\n",
            "47 1.6689300537109375e-06\n",
            "48 1.6689300537109375e-06\n",
            "49 2.1457672119140625e-06\n"
          ]
        }
      ],
      "source": [
        "def fibs():\n",
        "  @lru_cache(10000) # Can't send an unhashable type with lru\n",
        "  def fib2(n):\n",
        "    if n in [0, 1]:\n",
        "      return n\n",
        "    return fib2(n - 1) + fib2(n - 2)\n",
        "\n",
        "\n",
        "  for num in range(10, 50):\n",
        "    start = time.time()\n",
        "    fib2(num)\n",
        "    end = time.time()\n",
        "    times.append(end - start)\n",
        "    print(num, end - start)\n",
        "fibs()"
      ]
    },
    {
      "cell_type": "code",
      "execution_count": null,
      "metadata": {
        "id": "2yi72dmGu4OH"
      },
      "outputs": [],
      "source": [
        "fib(50)"
      ]
    },
    {
      "cell_type": "code",
      "execution_count": 21,
      "metadata": {
        "colab": {
          "base_uri": "https://localhost:8080/"
        },
        "id": "SFyLrZFcuOYD",
        "outputId": "6a57d00c-a110-4262-8d8f-d7035a33de1b"
      },
      "outputs": [
        {
          "name": "stdout",
          "output_type": "stream",
          "text": [
            "12586269025\n",
            "354224848179261915075\n"
          ]
        }
      ],
      "source": [
        "def fibDP(n, dp):\n",
        "  if dp[n] != -1:\n",
        "    return dp[n]\n",
        "  dp[n] = fibDP(n - 1, dp) + fibDP(n - 2, dp)\n",
        "  return dp[n]\n",
        "\n",
        "def fibBottomUp(n):\n",
        "  dp = [0, 1]\n",
        "  for i in range(2, n + 1):\n",
        "    dp.append(dp[i-1] + dp[i-2]) # dp[i] = dp[i-1] + dp[i-2]\n",
        "  return dp[n]\n",
        "\n",
        "\n",
        "n = 50\n",
        "dp = [-1] * (n + 1)\n",
        "dp[0] = 0\n",
        "dp[1] = 1\n",
        "print(fibDP(n, dp))\n",
        "print(fibBottomUp(100))"
      ]
    },
    {
      "cell_type": "code",
      "execution_count": null,
      "metadata": {
        "colab": {
          "base_uri": "https://localhost:8080/"
        },
        "id": "16FwWD36oQx-",
        "outputId": "986d54b5-fd09-4634-f390-acf6b5d29e82"
      },
      "outputs": [
        {
          "data": {
            "text/plain": [
              "[2.384185791015625e-06,\n",
              " 7.152557373046875e-07,\n",
              " 1.6689300537109375e-06,\n",
              " 1.1920928955078125e-06,\n",
              " 1.6689300537109375e-06,\n",
              " 2.384185791015625e-06,\n",
              " 3.5762786865234375e-06,\n",
              " 5.4836273193359375e-06,\n",
              " 9.059906005859375e-06,\n",
              " 4.887580871582031e-05,\n",
              " 3.5762786865234375e-05,\n",
              " 5.555152893066406e-05,\n",
              " 0.00011229515075683594,\n",
              " 0.0001666545867919922,\n",
              " 0.00026798248291015625,\n",
              " 0.0004858970642089844,\n",
              " 0.0007455348968505859,\n",
              " 0.0012497901916503906,\n",
              " 0.0045969486236572266,\n",
              " 0.0028655529022216797]"
            ]
          },
          "execution_count": 7,
          "metadata": {},
          "output_type": "execute_result"
        }
      ],
      "source": [
        "times"
      ]
    }
  ],
  "metadata": {
    "colab": {
      "provenance": []
    },
    "kernelspec": {
      "display_name": "Python 3.7.4 32-bit",
      "language": "python",
      "name": "python3"
    },
    "language_info": {
      "name": "python",
      "version": "3.7.4"
    },
    "vscode": {
      "interpreter": {
        "hash": "0ca37eddaeaa56f625aaa2723c10b11076927865a51109fd4c97416fe5a0d619"
      }
    }
  },
  "nbformat": 4,
  "nbformat_minor": 0
}
